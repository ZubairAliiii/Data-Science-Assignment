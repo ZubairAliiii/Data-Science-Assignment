{
 "cells": [
  {
   "cell_type": "markdown",
   "id": "ae00b2be-b553-42a8-a5f2-3a453d12eb06",
   "metadata": {},
   "source": [
    "#Roll N0.2K22/CSE/124"
   ]
  },
  {
   "cell_type": "markdown",
   "id": "b877699c-3841-49df-a08e-a21f0572d2fb",
   "metadata": {},
   "source": [
    "#Name:Zubair Ahmed"
   ]
  },
  {
   "cell_type": "markdown",
   "id": "d3648b08-b10f-468c-bc14-bf3714e8f66d",
   "metadata": {},
   "source": [
    "#About Dataset"
   ]
  },
  {
   "cell_type": "markdown",
   "id": "1f7c2712-027a-455f-8256-5772702727b3",
   "metadata": {},
   "source": [
    "#In this Dataset we will check Overview of Most popaular programming language"
   ]
  },
  {
   "cell_type": "markdown",
   "id": "3014471c-c602-4d77-817f-292a08ff5137",
   "metadata": {},
   "source": [
    "#STEP-01 IMPORT REQUIRED PYTHON PACKAGES"
   ]
  },
  {
   "cell_type": "code",
   "execution_count": 109,
   "id": "39e14ae3-c86e-47c9-ab74-c890ec18cbfb",
   "metadata": {},
   "outputs": [],
   "source": [
    "#Link where the dataset is taken\n",
    "#https://www.kaggle.com/datasets/muhammadkhalid/most-popular-programming-languages-since-2004"
   ]
  },
  {
   "cell_type": "code",
   "execution_count": 2,
   "id": "52aafaa1-7960-4a4c-9f80-8ef113554106",
   "metadata": {},
   "outputs": [],
   "source": [
    "import pandas as pd\n",
    "import numpy as np\n",
    "import matplotlib.pyplot as plt\n",
    "import seaborn as sns\n",
    "from sklearn.model_selection import train_test_split\n",
    "from pandas.core.common import random_state\n",
    "from sklearn.linear_model import LinearRegression"
   ]
  },
  {
   "cell_type": "code",
   "execution_count": null,
   "id": "5b604314-6a60-4242-9fab-78a6dbff89d9",
   "metadata": {},
   "outputs": [],
   "source": []
  },
  {
   "cell_type": "markdown",
   "id": "01ae4d6c-b9c1-4fa2-bc9e-5b01fbff47b7",
   "metadata": {},
   "source": [
    "#STEP-02 LOAD THE DATASETS"
   ]
  },
  {
   "cell_type": "code",
   "execution_count": null,
   "id": "015c0a82-2621-41cd-bd07-cf94014078d5",
   "metadata": {},
   "outputs": [],
   "source": []
  },
  {
   "cell_type": "code",
   "execution_count": 5,
   "id": "d2b88649-9122-43cf-a2fd-020ddc6c06b9",
   "metadata": {},
   "outputs": [],
   "source": [
    "df=pd.read_csv('PopularityofProgrammingLanguagesfrom2004to2023.csv')"
   ]
  },
  {
   "cell_type": "code",
   "execution_count": null,
   "id": "82ccfb54-a05b-45b9-92e6-065ea98d16c2",
   "metadata": {},
   "outputs": [],
   "source": []
  },
  {
   "cell_type": "markdown",
   "id": "a93375b5-38ff-4661-aefb-4cea6b695754",
   "metadata": {},
   "source": [
    "#STEP-03 DATA ANALYSIS USING PANDAS"
   ]
  },
  {
   "cell_type": "code",
   "execution_count": null,
   "id": "6e0cbe33-8a4b-41ff-a1e5-3f8ef09c9f8e",
   "metadata": {},
   "outputs": [],
   "source": []
  },
  {
   "cell_type": "code",
   "execution_count": 7,
   "id": "81a5df53-db0f-4307-9ebc-3aca00ea4875",
   "metadata": {},
   "outputs": [
    {
     "data": {
      "text/html": [
       "<div>\n",
       "<style scoped>\n",
       "    .dataframe tbody tr th:only-of-type {\n",
       "        vertical-align: middle;\n",
       "    }\n",
       "\n",
       "    .dataframe tbody tr th {\n",
       "        vertical-align: top;\n",
       "    }\n",
       "\n",
       "    .dataframe thead th {\n",
       "        text-align: right;\n",
       "    }\n",
       "</style>\n",
       "<table border=\"1\" class=\"dataframe\">\n",
       "  <thead>\n",
       "    <tr style=\"text-align: right;\">\n",
       "      <th></th>\n",
       "      <th>Date</th>\n",
       "      <th>Abap</th>\n",
       "      <th>Ada</th>\n",
       "      <th>C/C++</th>\n",
       "      <th>C#</th>\n",
       "      <th>Cobol</th>\n",
       "      <th>Dart</th>\n",
       "      <th>Delphi/Pascal</th>\n",
       "      <th>Go</th>\n",
       "      <th>Groovy</th>\n",
       "      <th>...</th>\n",
       "      <th>Powershell</th>\n",
       "      <th>Python</th>\n",
       "      <th>R</th>\n",
       "      <th>Ruby</th>\n",
       "      <th>Rust</th>\n",
       "      <th>Scala</th>\n",
       "      <th>Swift</th>\n",
       "      <th>TypeScript</th>\n",
       "      <th>VBA</th>\n",
       "      <th>Visual Basic</th>\n",
       "    </tr>\n",
       "  </thead>\n",
       "  <tbody>\n",
       "    <tr>\n",
       "      <th>0</th>\n",
       "      <td>July 2004</td>\n",
       "      <td>0.34</td>\n",
       "      <td>0.36</td>\n",
       "      <td>10.01</td>\n",
       "      <td>4.68</td>\n",
       "      <td>0.42</td>\n",
       "      <td>0.0</td>\n",
       "      <td>2.80</td>\n",
       "      <td>0.0</td>\n",
       "      <td>0.03</td>\n",
       "      <td>...</td>\n",
       "      <td>0.16</td>\n",
       "      <td>2.51</td>\n",
       "      <td>0.39</td>\n",
       "      <td>0.33</td>\n",
       "      <td>0.24</td>\n",
       "      <td>0.17</td>\n",
       "      <td>0.0</td>\n",
       "      <td>0.0</td>\n",
       "      <td>1.43</td>\n",
       "      <td>8.50</td>\n",
       "    </tr>\n",
       "    <tr>\n",
       "      <th>1</th>\n",
       "      <td>August 2004</td>\n",
       "      <td>0.35</td>\n",
       "      <td>0.36</td>\n",
       "      <td>9.74</td>\n",
       "      <td>4.96</td>\n",
       "      <td>0.46</td>\n",
       "      <td>0.0</td>\n",
       "      <td>2.65</td>\n",
       "      <td>0.0</td>\n",
       "      <td>0.07</td>\n",
       "      <td>...</td>\n",
       "      <td>0.15</td>\n",
       "      <td>2.62</td>\n",
       "      <td>0.40</td>\n",
       "      <td>0.40</td>\n",
       "      <td>0.19</td>\n",
       "      <td>0.17</td>\n",
       "      <td>0.0</td>\n",
       "      <td>0.0</td>\n",
       "      <td>1.45</td>\n",
       "      <td>8.51</td>\n",
       "    </tr>\n",
       "    <tr>\n",
       "      <th>2</th>\n",
       "      <td>September 2004</td>\n",
       "      <td>0.41</td>\n",
       "      <td>0.41</td>\n",
       "      <td>9.59</td>\n",
       "      <td>5.04</td>\n",
       "      <td>0.51</td>\n",
       "      <td>0.0</td>\n",
       "      <td>2.64</td>\n",
       "      <td>0.0</td>\n",
       "      <td>0.08</td>\n",
       "      <td>...</td>\n",
       "      <td>0.08</td>\n",
       "      <td>2.71</td>\n",
       "      <td>0.40</td>\n",
       "      <td>0.41</td>\n",
       "      <td>0.17</td>\n",
       "      <td>0.13</td>\n",
       "      <td>0.0</td>\n",
       "      <td>0.0</td>\n",
       "      <td>1.54</td>\n",
       "      <td>8.38</td>\n",
       "    </tr>\n",
       "    <tr>\n",
       "      <th>3</th>\n",
       "      <td>October 2004</td>\n",
       "      <td>0.40</td>\n",
       "      <td>0.38</td>\n",
       "      <td>9.47</td>\n",
       "      <td>5.29</td>\n",
       "      <td>0.53</td>\n",
       "      <td>0.0</td>\n",
       "      <td>2.76</td>\n",
       "      <td>0.0</td>\n",
       "      <td>0.09</td>\n",
       "      <td>...</td>\n",
       "      <td>0.12</td>\n",
       "      <td>2.91</td>\n",
       "      <td>0.42</td>\n",
       "      <td>0.46</td>\n",
       "      <td>0.12</td>\n",
       "      <td>0.14</td>\n",
       "      <td>0.0</td>\n",
       "      <td>0.0</td>\n",
       "      <td>1.61</td>\n",
       "      <td>8.46</td>\n",
       "    </tr>\n",
       "    <tr>\n",
       "      <th>4</th>\n",
       "      <td>November 2004</td>\n",
       "      <td>0.38</td>\n",
       "      <td>0.38</td>\n",
       "      <td>9.48</td>\n",
       "      <td>5.22</td>\n",
       "      <td>0.55</td>\n",
       "      <td>0.0</td>\n",
       "      <td>2.75</td>\n",
       "      <td>0.0</td>\n",
       "      <td>0.07</td>\n",
       "      <td>...</td>\n",
       "      <td>0.12</td>\n",
       "      <td>2.83</td>\n",
       "      <td>0.41</td>\n",
       "      <td>0.44</td>\n",
       "      <td>0.17</td>\n",
       "      <td>0.15</td>\n",
       "      <td>0.0</td>\n",
       "      <td>0.0</td>\n",
       "      <td>1.50</td>\n",
       "      <td>8.21</td>\n",
       "    </tr>\n",
       "  </tbody>\n",
       "</table>\n",
       "<p>5 rows × 30 columns</p>\n",
       "</div>"
      ],
      "text/plain": [
       "             Date  Abap   Ada  C/C++    C#  Cobol  Dart  Delphi/Pascal   Go  \\\n",
       "0       July 2004  0.34  0.36  10.01  4.68   0.42   0.0           2.80  0.0   \n",
       "1     August 2004  0.35  0.36   9.74  4.96   0.46   0.0           2.65  0.0   \n",
       "2  September 2004  0.41  0.41   9.59  5.04   0.51   0.0           2.64  0.0   \n",
       "3    October 2004  0.40  0.38   9.47  5.29   0.53   0.0           2.76  0.0   \n",
       "4   November 2004  0.38  0.38   9.48  5.22   0.55   0.0           2.75  0.0   \n",
       "\n",
       "   Groovy  ...  Powershell  Python     R  Ruby  Rust  Scala  Swift  \\\n",
       "0    0.03  ...        0.16    2.51  0.39  0.33  0.24   0.17    0.0   \n",
       "1    0.07  ...        0.15    2.62  0.40  0.40  0.19   0.17    0.0   \n",
       "2    0.08  ...        0.08    2.71  0.40  0.41  0.17   0.13    0.0   \n",
       "3    0.09  ...        0.12    2.91  0.42  0.46  0.12   0.14    0.0   \n",
       "4    0.07  ...        0.12    2.83  0.41  0.44  0.17   0.15    0.0   \n",
       "\n",
       "   TypeScript   VBA  Visual Basic  \n",
       "0         0.0  1.43          8.50  \n",
       "1         0.0  1.45          8.51  \n",
       "2         0.0  1.54          8.38  \n",
       "3         0.0  1.61          8.46  \n",
       "4         0.0  1.50          8.21  \n",
       "\n",
       "[5 rows x 30 columns]"
      ]
     },
     "execution_count": 7,
     "metadata": {},
     "output_type": "execute_result"
    }
   ],
   "source": [
    "df.head()"
   ]
  },
  {
   "cell_type": "code",
   "execution_count": null,
   "id": "4090a49f-ae29-480b-9355-648c719b26b7",
   "metadata": {},
   "outputs": [],
   "source": []
  },
  {
   "cell_type": "code",
   "execution_count": 8,
   "id": "154148e1-0289-4e3a-9271-b84b304098b8",
   "metadata": {},
   "outputs": [
    {
     "data": {
      "text/html": [
       "<div>\n",
       "<style scoped>\n",
       "    .dataframe tbody tr th:only-of-type {\n",
       "        vertical-align: middle;\n",
       "    }\n",
       "\n",
       "    .dataframe tbody tr th {\n",
       "        vertical-align: top;\n",
       "    }\n",
       "\n",
       "    .dataframe thead th {\n",
       "        text-align: right;\n",
       "    }\n",
       "</style>\n",
       "<table border=\"1\" class=\"dataframe\">\n",
       "  <thead>\n",
       "    <tr style=\"text-align: right;\">\n",
       "      <th></th>\n",
       "      <th>Date</th>\n",
       "      <th>Abap</th>\n",
       "      <th>Ada</th>\n",
       "      <th>C/C++</th>\n",
       "      <th>C#</th>\n",
       "      <th>Cobol</th>\n",
       "      <th>Dart</th>\n",
       "      <th>Delphi/Pascal</th>\n",
       "      <th>Go</th>\n",
       "      <th>Groovy</th>\n",
       "      <th>...</th>\n",
       "      <th>Powershell</th>\n",
       "      <th>Python</th>\n",
       "      <th>R</th>\n",
       "      <th>Ruby</th>\n",
       "      <th>Rust</th>\n",
       "      <th>Scala</th>\n",
       "      <th>Swift</th>\n",
       "      <th>TypeScript</th>\n",
       "      <th>VBA</th>\n",
       "      <th>Visual Basic</th>\n",
       "    </tr>\n",
       "  </thead>\n",
       "  <tbody>\n",
       "    <tr>\n",
       "      <th>222</th>\n",
       "      <td>January 2023</td>\n",
       "      <td>0.46</td>\n",
       "      <td>0.85</td>\n",
       "      <td>6.84</td>\n",
       "      <td>6.93</td>\n",
       "      <td>0.39</td>\n",
       "      <td>0.82</td>\n",
       "      <td>0.00</td>\n",
       "      <td>1.92</td>\n",
       "      <td>0.39</td>\n",
       "      <td>...</td>\n",
       "      <td>0.89</td>\n",
       "      <td>27.69</td>\n",
       "      <td>3.99</td>\n",
       "      <td>1.02</td>\n",
       "      <td>1.89</td>\n",
       "      <td>0.63</td>\n",
       "      <td>2.21</td>\n",
       "      <td>2.77</td>\n",
       "      <td>1.02</td>\n",
       "      <td>0.59</td>\n",
       "    </tr>\n",
       "    <tr>\n",
       "      <th>223</th>\n",
       "      <td>February 2023</td>\n",
       "      <td>0.46</td>\n",
       "      <td>0.89</td>\n",
       "      <td>6.84</td>\n",
       "      <td>6.92</td>\n",
       "      <td>0.37</td>\n",
       "      <td>0.82</td>\n",
       "      <td>0.02</td>\n",
       "      <td>1.93</td>\n",
       "      <td>0.36</td>\n",
       "      <td>...</td>\n",
       "      <td>0.87</td>\n",
       "      <td>27.42</td>\n",
       "      <td>4.09</td>\n",
       "      <td>1.03</td>\n",
       "      <td>1.95</td>\n",
       "      <td>0.62</td>\n",
       "      <td>2.27</td>\n",
       "      <td>2.80</td>\n",
       "      <td>1.01</td>\n",
       "      <td>0.58</td>\n",
       "    </tr>\n",
       "    <tr>\n",
       "      <th>224</th>\n",
       "      <td>March 2023</td>\n",
       "      <td>0.46</td>\n",
       "      <td>0.93</td>\n",
       "      <td>6.86</td>\n",
       "      <td>6.81</td>\n",
       "      <td>0.37</td>\n",
       "      <td>0.80</td>\n",
       "      <td>0.09</td>\n",
       "      <td>1.90</td>\n",
       "      <td>0.37</td>\n",
       "      <td>...</td>\n",
       "      <td>0.89</td>\n",
       "      <td>27.39</td>\n",
       "      <td>4.20</td>\n",
       "      <td>1.03</td>\n",
       "      <td>2.06</td>\n",
       "      <td>0.65</td>\n",
       "      <td>2.25</td>\n",
       "      <td>2.84</td>\n",
       "      <td>0.98</td>\n",
       "      <td>0.56</td>\n",
       "    </tr>\n",
       "    <tr>\n",
       "      <th>225</th>\n",
       "      <td>April 2023</td>\n",
       "      <td>0.46</td>\n",
       "      <td>0.95</td>\n",
       "      <td>6.73</td>\n",
       "      <td>6.82</td>\n",
       "      <td>0.39</td>\n",
       "      <td>0.81</td>\n",
       "      <td>0.13</td>\n",
       "      <td>1.96</td>\n",
       "      <td>0.33</td>\n",
       "      <td>...</td>\n",
       "      <td>0.95</td>\n",
       "      <td>27.29</td>\n",
       "      <td>4.23</td>\n",
       "      <td>1.03</td>\n",
       "      <td>2.11</td>\n",
       "      <td>0.68</td>\n",
       "      <td>2.30</td>\n",
       "      <td>2.88</td>\n",
       "      <td>0.96</td>\n",
       "      <td>0.60</td>\n",
       "    </tr>\n",
       "    <tr>\n",
       "      <th>226</th>\n",
       "      <td>May 2023</td>\n",
       "      <td>0.48</td>\n",
       "      <td>1.02</td>\n",
       "      <td>6.55</td>\n",
       "      <td>6.92</td>\n",
       "      <td>0.40</td>\n",
       "      <td>0.78</td>\n",
       "      <td>0.16</td>\n",
       "      <td>1.95</td>\n",
       "      <td>0.37</td>\n",
       "      <td>...</td>\n",
       "      <td>0.95</td>\n",
       "      <td>27.27</td>\n",
       "      <td>4.34</td>\n",
       "      <td>1.04</td>\n",
       "      <td>2.08</td>\n",
       "      <td>0.78</td>\n",
       "      <td>2.30</td>\n",
       "      <td>2.88</td>\n",
       "      <td>0.95</td>\n",
       "      <td>0.61</td>\n",
       "    </tr>\n",
       "  </tbody>\n",
       "</table>\n",
       "<p>5 rows × 30 columns</p>\n",
       "</div>"
      ],
      "text/plain": [
       "              Date  Abap   Ada  C/C++    C#  Cobol  Dart  Delphi/Pascal    Go  \\\n",
       "222   January 2023  0.46  0.85   6.84  6.93   0.39  0.82           0.00  1.92   \n",
       "223  February 2023  0.46  0.89   6.84  6.92   0.37  0.82           0.02  1.93   \n",
       "224     March 2023  0.46  0.93   6.86  6.81   0.37  0.80           0.09  1.90   \n",
       "225     April 2023  0.46  0.95   6.73  6.82   0.39  0.81           0.13  1.96   \n",
       "226       May 2023  0.48  1.02   6.55  6.92   0.40  0.78           0.16  1.95   \n",
       "\n",
       "     Groovy  ...  Powershell  Python     R  Ruby  Rust  Scala  Swift  \\\n",
       "222    0.39  ...        0.89   27.69  3.99  1.02  1.89   0.63   2.21   \n",
       "223    0.36  ...        0.87   27.42  4.09  1.03  1.95   0.62   2.27   \n",
       "224    0.37  ...        0.89   27.39  4.20  1.03  2.06   0.65   2.25   \n",
       "225    0.33  ...        0.95   27.29  4.23  1.03  2.11   0.68   2.30   \n",
       "226    0.37  ...        0.95   27.27  4.34  1.04  2.08   0.78   2.30   \n",
       "\n",
       "     TypeScript   VBA  Visual Basic  \n",
       "222        2.77  1.02          0.59  \n",
       "223        2.80  1.01          0.58  \n",
       "224        2.84  0.98          0.56  \n",
       "225        2.88  0.96          0.60  \n",
       "226        2.88  0.95          0.61  \n",
       "\n",
       "[5 rows x 30 columns]"
      ]
     },
     "execution_count": 8,
     "metadata": {},
     "output_type": "execute_result"
    }
   ],
   "source": [
    "df.tail()"
   ]
  },
  {
   "cell_type": "markdown",
   "id": "6dd03026-0786-4156-8391-27be30330c0f",
   "metadata": {},
   "source": [
    "#Array Operations Started"
   ]
  },
  {
   "cell_type": "code",
   "execution_count": 58,
   "id": "24a95d0b-3e92-434f-899a-8de8cde523c4",
   "metadata": {},
   "outputs": [],
   "source": [
    "array1=[10,20,30,40,50]"
   ]
  },
  {
   "cell_type": "code",
   "execution_count": 63,
   "id": "2c1c5dbf-8bb5-484f-a0aa-5de8f5bec117",
   "metadata": {},
   "outputs": [
    {
     "name": "stdout",
     "output_type": "stream",
     "text": [
      "[10 20 30 40 50]\n"
     ]
    },
    {
     "data": {
      "text/plain": [
       "numpy.ndarray"
      ]
     },
     "execution_count": 63,
     "metadata": {},
     "output_type": "execute_result"
    }
   ],
   "source": [
    "array2=np.array(array1)\n",
    "print(array2)\n",
    "type(array2)"
   ]
  },
  {
   "cell_type": "code",
   "execution_count": 64,
   "id": "1cf49e67-50de-419a-abae-b1f011b4a8d5",
   "metadata": {},
   "outputs": [],
   "source": [
    "#Multi dementional Array"
   ]
  },
  {
   "cell_type": "code",
   "execution_count": 67,
   "id": "1a988d55-0021-4c0f-974e-b2ffd56773dd",
   "metadata": {},
   "outputs": [
    {
     "name": "stdout",
     "output_type": "stream",
     "text": [
      "[[20 30 40]\n",
      " [40 50 60]\n",
      " [70 80 90]]\n"
     ]
    }
   ],
   "source": [
    "array4=[[20,30,40],[40,50,60],[70,80,90]]\n",
    "array5=np.array(array4)\n",
    "print(array5)"
   ]
  },
  {
   "cell_type": "code",
   "execution_count": 68,
   "id": "c2a7a8b7-bd5e-47b4-b007-fdd54faf8e48",
   "metadata": {},
   "outputs": [],
   "source": [
    "#range functions"
   ]
  },
  {
   "cell_type": "code",
   "execution_count": 70,
   "id": "ff1de165-cbdb-4055-8b05-96a3bd734d1e",
   "metadata": {},
   "outputs": [
    {
     "name": "stdout",
     "output_type": "stream",
     "text": [
      "[1 2 3 4 5 6 7]\n"
     ]
    }
   ],
   "source": [
    "array7=np.arange(1,8)\n",
    "print(array7)"
   ]
  },
  {
   "cell_type": "code",
   "execution_count": null,
   "id": "e4a47dac-8f3d-4d11-92c0-6eff0f0360b2",
   "metadata": {},
   "outputs": [],
   "source": [
    "#rehsap attribute"
   ]
  },
  {
   "cell_type": "code",
   "execution_count": 77,
   "id": "a7bad2ce-0a64-47a1-b11f-6991f5ed4a5d",
   "metadata": {},
   "outputs": [
    {
     "name": "stdout",
     "output_type": "stream",
     "text": [
      "[[11 12 13]\n",
      " [14 15 16]]\n"
     ]
    }
   ],
   "source": [
    "array8= np.arange(11,17).reshape((2,3))\n",
    "print(array8)\n"
   ]
  },
  {
   "cell_type": "code",
   "execution_count": 78,
   "id": "616ed950-e728-45e4-890f-228b05f22bff",
   "metadata": {},
   "outputs": [],
   "source": [
    "#zeros matrix"
   ]
  },
  {
   "cell_type": "code",
   "execution_count": 79,
   "id": "4fbeb09d-77c8-460f-89ff-85ad8b61055c",
   "metadata": {},
   "outputs": [
    {
     "name": "stdout",
     "output_type": "stream",
     "text": [
      "[0. 0. 0. 0.]\n"
     ]
    }
   ],
   "source": [
    "array9=np.zeros(4)\n",
    "print(array9)"
   ]
  },
  {
   "cell_type": "code",
   "execution_count": 81,
   "id": "4366e661-59ee-4f64-aa05-f2dd2465d8ea",
   "metadata": {},
   "outputs": [
    {
     "name": "stdout",
     "output_type": "stream",
     "text": [
      "[[0. 0. 0. 0.]\n",
      " [0. 0. 0. 0.]\n",
      " [0. 0. 0. 0.]\n",
      " [0. 0. 0. 0.]]\n"
     ]
    }
   ],
   "source": [
    "array9=np.zeros((4,4))\n",
    "print(array9)"
   ]
  },
  {
   "cell_type": "code",
   "execution_count": 82,
   "id": "a38c5b49-98c9-4c68-bb2e-4ea2c10bef1f",
   "metadata": {},
   "outputs": [],
   "source": [
    "#ones matrix\n"
   ]
  },
  {
   "cell_type": "code",
   "execution_count": 83,
   "id": "b161e0a6-7281-4357-967e-58c44384f6be",
   "metadata": {},
   "outputs": [
    {
     "name": "stdout",
     "output_type": "stream",
     "text": [
      "[1. 1. 1. 1.]\n"
     ]
    }
   ],
   "source": [
    "array10=np.ones((4))\n",
    "print(array10)"
   ]
  },
  {
   "cell_type": "code",
   "execution_count": 84,
   "id": "ee378b1e-4965-4929-8a33-0f1545d52e21",
   "metadata": {},
   "outputs": [
    {
     "name": "stdout",
     "output_type": "stream",
     "text": [
      "[[1. 1. 1. 1.]\n",
      " [1. 1. 1. 1.]\n",
      " [1. 1. 1. 1.]\n",
      " [1. 1. 1. 1.]]\n"
     ]
    }
   ],
   "source": [
    "array10=np.ones((4,4))\n",
    "print(array10)"
   ]
  },
  {
   "cell_type": "code",
   "execution_count": null,
   "id": "9e027927-fb75-4782-ac3d-782d2eef63fd",
   "metadata": {},
   "outputs": [],
   "source": []
  },
  {
   "cell_type": "code",
   "execution_count": null,
   "id": "86f02a3d-7e26-49a5-8749-d4aae9eb1383",
   "metadata": {},
   "outputs": [],
   "source": [
    "#identity"
   ]
  },
  {
   "cell_type": "code",
   "execution_count": 85,
   "id": "d9b16f99-ddb7-4f80-8ced-3eb854948be9",
   "metadata": {},
   "outputs": [
    {
     "name": "stdout",
     "output_type": "stream",
     "text": [
      "[[1. 0. 0. 0.]\n",
      " [0. 1. 0. 0.]\n",
      " [0. 0. 1. 0.]\n",
      " [0. 0. 0. 1.]]\n"
     ]
    }
   ],
   "source": [
    "array11=np.identity((4))\n",
    "print(array11)"
   ]
  },
  {
   "cell_type": "code",
   "execution_count": 95,
   "id": "4364a710-a356-4e5a-9886-45e59f7e75f0",
   "metadata": {},
   "outputs": [],
   "source": [
    "#transpose of matrix"
   ]
  },
  {
   "cell_type": "code",
   "execution_count": 96,
   "id": "4c5555d5-e351-4e48-9402-835f77f3cf16",
   "metadata": {},
   "outputs": [
    {
     "name": "stdout",
     "output_type": "stream",
     "text": [
      "[[2 5 4]\n",
      " [3 3 2]\n",
      " [4 4 5]\n",
      " [5 6 7]]\n"
     ]
    }
   ],
   "source": [
    "A=np.array([[2,3,4,5],[5,3,4,6],[4,2,5,7]])\n",
    "\n",
    "D=np.transpose(A)\n",
    "print(D)"
   ]
  },
  {
   "cell_type": "code",
   "execution_count": 97,
   "id": "4c593202-843f-4507-b434-691dfd558572",
   "metadata": {},
   "outputs": [],
   "source": [
    "#Trace Of A matrix Element"
   ]
  },
  {
   "cell_type": "code",
   "execution_count": 98,
   "id": "e06ad646-a668-4ca1-adb4-f4c693e882dc",
   "metadata": {},
   "outputs": [
    {
     "name": "stdout",
     "output_type": "stream",
     "text": [
      "10\n"
     ]
    }
   ],
   "source": [
    "A=np.array([[2,3,4,5],[5,3,4,6],[4,2,5,7]])\n",
    "\n",
    "D=np.trace(A)\n",
    "print(D)"
   ]
  },
  {
   "cell_type": "code",
   "execution_count": null,
   "id": "fae7635a-6dbd-4d3a-984c-5c12261e5a73",
   "metadata": {},
   "outputs": [],
   "source": [
    "#Diagonal OF A Matrix"
   ]
  },
  {
   "cell_type": "code",
   "execution_count": 100,
   "id": "c9784ec6-a523-45e6-90f9-6c4726b4016f",
   "metadata": {},
   "outputs": [
    {
     "name": "stdout",
     "output_type": "stream",
     "text": [
      "[2 3 5]\n"
     ]
    }
   ],
   "source": [
    "A=np.array([[2,3,4,5],[5,3,4,6],[4,2,5,7]])\n",
    "\n",
    "D=np.diagonal(A)\n",
    "print(D)"
   ]
  },
  {
   "cell_type": "code",
   "execution_count": 101,
   "id": "177a4d71-c4ff-4441-bb6f-d7ddfcab8230",
   "metadata": {},
   "outputs": [],
   "source": [
    "#Determinants of a matrix"
   ]
  },
  {
   "cell_type": "code",
   "execution_count": 106,
   "id": "55600e8a-15e7-4b21-85d6-6c45e54acc53",
   "metadata": {},
   "outputs": [
    {
     "name": "stdout",
     "output_type": "stream",
     "text": [
      "13.999999999999991\n"
     ]
    }
   ],
   "source": [
    "A=np.array([[2,3,5],[5,3,6],[4,5,7]])\n",
    "\n",
    "D=np.linalg.det(A)\n",
    "print(D)"
   ]
  },
  {
   "cell_type": "code",
   "execution_count": null,
   "id": "bebd6092-41cd-42d8-98f2-a89b416f9a21",
   "metadata": {},
   "outputs": [],
   "source": []
  },
  {
   "cell_type": "code",
   "execution_count": null,
   "id": "9ceb989b-585c-4f7a-a22e-d7a1ec2463d1",
   "metadata": {},
   "outputs": [],
   "source": [
    "#rank of Matrix"
   ]
  },
  {
   "cell_type": "code",
   "execution_count": 107,
   "id": "7a342481-f279-4810-b655-e6297c58b6f7",
   "metadata": {},
   "outputs": [
    {
     "name": "stdout",
     "output_type": "stream",
     "text": [
      "3\n"
     ]
    }
   ],
   "source": [
    "A=np.array([[2,3,5],[5,3,6],[4,5,7]])\n",
    "\n",
    "D=np.linalg.matrix_rank(A)\n",
    "print(D)"
   ]
  },
  {
   "cell_type": "code",
   "execution_count": null,
   "id": "0af6611b-7f83-4721-b6c7-c312fb4626e1",
   "metadata": {},
   "outputs": [],
   "source": [
    "#inverse Of Matrix"
   ]
  },
  {
   "cell_type": "code",
   "execution_count": 108,
   "id": "44abe035-0604-4fde-9c52-efdac5726f96",
   "metadata": {},
   "outputs": [
    {
     "name": "stdout",
     "output_type": "stream",
     "text": [
      "[[-0.64285714  0.28571429  0.21428571]\n",
      " [-0.78571429 -0.42857143  0.92857143]\n",
      " [ 0.92857143  0.14285714 -0.64285714]]\n"
     ]
    }
   ],
   "source": [
    "A=np.array([[2,3,5],[5,3,6],[4,5,7]])\n",
    "\n",
    "D=np.linalg.inv(A)\n",
    "print(D)"
   ]
  },
  {
   "cell_type": "code",
   "execution_count": null,
   "id": "0c2e96d0-460d-443d-907a-07970a53b73f",
   "metadata": {},
   "outputs": [],
   "source": []
  },
  {
   "cell_type": "code",
   "execution_count": null,
   "id": "673b8fdd-98b4-457e-ba06-b952593b4f12",
   "metadata": {},
   "outputs": [],
   "source": [
    "#Multi dementional"
   ]
  },
  {
   "cell_type": "code",
   "execution_count": 87,
   "id": "195692be-3998-41d1-86ab-68f3c1ebeba4",
   "metadata": {},
   "outputs": [
    {
     "name": "stdout",
     "output_type": "stream",
     "text": [
      "[[2 3 4 5]\n",
      " [5 3 4 6]\n",
      " [4 2 5 7]]\n"
     ]
    }
   ],
   "source": [
    "mul=np.array([[2,3,4,5],[5,3,4,6],[4,2,5,7]])\n",
    "print(mul)"
   ]
  },
  {
   "cell_type": "code",
   "execution_count": null,
   "id": "887ec2e6-909f-44b6-beff-74f817521854",
   "metadata": {},
   "outputs": [],
   "source": []
  },
  {
   "cell_type": "code",
   "execution_count": null,
   "id": "976bfa93-6f0f-4d21-8934-ad73764e2e7b",
   "metadata": {},
   "outputs": [],
   "source": [
    "#Addition of Matrices"
   ]
  },
  {
   "cell_type": "code",
   "execution_count": 89,
   "id": "20953fcd-ff8e-4bf5-b7c3-b513c49f9f6a",
   "metadata": {},
   "outputs": [
    {
     "name": "stdout",
     "output_type": "stream",
     "text": [
      "[[27 12 12  9]\n",
      " [ 7 13 18 18]\n",
      " [ 8  4 13 21]]\n"
     ]
    }
   ],
   "source": [
    "A=np.array([[2,3,4,5],[5,3,4,6],[4,2,5,7]])\n",
    "B=np.array([[3,4,4,2],[1,5,7,6],[2,1,6,7]])\n",
    "C=np.array([[22,5,4,2],[1,5,7,6],[2,1,2,7]])\n",
    "D=A+B+C\n",
    "print(D)\n"
   ]
  },
  {
   "cell_type": "code",
   "execution_count": 90,
   "id": "a20658de-1cee-4a5d-8cd6-7d57525ccb7d",
   "metadata": {},
   "outputs": [],
   "source": [
    "#Subtraction of 3 matrix"
   ]
  },
  {
   "cell_type": "code",
   "execution_count": 91,
   "id": "e4549a81-44e5-4bbb-baf1-d13e80a9344e",
   "metadata": {},
   "outputs": [
    {
     "name": "stdout",
     "output_type": "stream",
     "text": [
      "[[21  4  4  5]\n",
      " [ 5  3  4  6]\n",
      " [ 4  2  1  7]]\n"
     ]
    }
   ],
   "source": [
    "A=np.array([[2,3,4,5],[5,3,4,6],[4,2,5,7]])\n",
    "B=np.array([[3,4,4,2],[1,5,7,6],[2,1,6,7]])\n",
    "C=np.array([[22,5,4,2],[1,5,7,6],[2,1,2,7]])\n",
    "D=(A-B)+C\n",
    "print(D)\n"
   ]
  },
  {
   "cell_type": "code",
   "execution_count": 92,
   "id": "b41fb991-bb24-4102-8900-f4ca2e778846",
   "metadata": {},
   "outputs": [],
   "source": []
  },
  {
   "cell_type": "markdown",
   "id": "e36d58b1-03ad-4c93-83da-07e23ef723a2",
   "metadata": {
    "scrolled": true
   },
   "source": [
    "#Array Operations End Here"
   ]
  },
  {
   "cell_type": "code",
   "execution_count": null,
   "id": "5d01d224-a6e5-4304-99aa-43eb373bc71f",
   "metadata": {},
   "outputs": [],
   "source": []
  },
  {
   "cell_type": "code",
   "execution_count": null,
   "id": "c618083f-8886-4e3e-8ab4-29a861e525ef",
   "metadata": {},
   "outputs": [],
   "source": []
  },
  {
   "cell_type": "markdown",
   "id": "6fe5346a-6f09-4fea-9ea9-3bfa0c9bb302",
   "metadata": {},
   "source": [
    "#Again Dataset Start Here"
   ]
  },
  {
   "cell_type": "code",
   "execution_count": 93,
   "id": "00088b4b-250b-4778-8499-84af638e4f8e",
   "metadata": {},
   "outputs": [
    {
     "data": {
      "text/html": [
       "<div>\n",
       "<style scoped>\n",
       "    .dataframe tbody tr th:only-of-type {\n",
       "        vertical-align: middle;\n",
       "    }\n",
       "\n",
       "    .dataframe tbody tr th {\n",
       "        vertical-align: top;\n",
       "    }\n",
       "\n",
       "    .dataframe thead th {\n",
       "        text-align: right;\n",
       "    }\n",
       "</style>\n",
       "<table border=\"1\" class=\"dataframe\">\n",
       "  <thead>\n",
       "    <tr style=\"text-align: right;\">\n",
       "      <th></th>\n",
       "      <th>Abap</th>\n",
       "      <th>Ada</th>\n",
       "      <th>C/C++</th>\n",
       "      <th>C#</th>\n",
       "      <th>Cobol</th>\n",
       "      <th>Dart</th>\n",
       "      <th>Delphi/Pascal</th>\n",
       "      <th>Go</th>\n",
       "      <th>Groovy</th>\n",
       "      <th>Haskell</th>\n",
       "      <th>...</th>\n",
       "      <th>Powershell</th>\n",
       "      <th>Python</th>\n",
       "      <th>R</th>\n",
       "      <th>Ruby</th>\n",
       "      <th>Rust</th>\n",
       "      <th>Scala</th>\n",
       "      <th>Swift</th>\n",
       "      <th>TypeScript</th>\n",
       "      <th>VBA</th>\n",
       "      <th>Visual Basic</th>\n",
       "    </tr>\n",
       "  </thead>\n",
       "  <tbody>\n",
       "    <tr>\n",
       "      <th>count</th>\n",
       "      <td>227.000000</td>\n",
       "      <td>227.000000</td>\n",
       "      <td>227.000000</td>\n",
       "      <td>227.000000</td>\n",
       "      <td>227.000000</td>\n",
       "      <td>227.000000</td>\n",
       "      <td>227.000000</td>\n",
       "      <td>227.000000</td>\n",
       "      <td>227.000000</td>\n",
       "      <td>227.000000</td>\n",
       "      <td>...</td>\n",
       "      <td>227.000000</td>\n",
       "      <td>227.000000</td>\n",
       "      <td>227.000000</td>\n",
       "      <td>227.000000</td>\n",
       "      <td>227.000000</td>\n",
       "      <td>227.000000</td>\n",
       "      <td>227.000000</td>\n",
       "      <td>227.000000</td>\n",
       "      <td>227.000000</td>\n",
       "      <td>227.000000</td>\n",
       "    </tr>\n",
       "    <tr>\n",
       "      <th>mean</th>\n",
       "      <td>0.489692</td>\n",
       "      <td>0.361542</td>\n",
       "      <td>8.113348</td>\n",
       "      <td>7.496784</td>\n",
       "      <td>0.368194</td>\n",
       "      <td>0.176608</td>\n",
       "      <td>0.960661</td>\n",
       "      <td>0.476344</td>\n",
       "      <td>0.343128</td>\n",
       "      <td>0.292952</td>\n",
       "      <td>...</td>\n",
       "      <td>0.650088</td>\n",
       "      <td>13.558106</td>\n",
       "      <td>2.310396</td>\n",
       "      <td>1.986872</td>\n",
       "      <td>0.362599</td>\n",
       "      <td>0.582687</td>\n",
       "      <td>1.192203</td>\n",
       "      <td>0.679868</td>\n",
       "      <td>1.606256</td>\n",
       "      <td>3.378414</td>\n",
       "    </tr>\n",
       "    <tr>\n",
       "      <th>std</th>\n",
       "      <td>0.107508</td>\n",
       "      <td>0.198476</td>\n",
       "      <td>1.774062</td>\n",
       "      <td>1.232928</td>\n",
       "      <td>0.072104</td>\n",
       "      <td>0.239022</td>\n",
       "      <td>0.770689</td>\n",
       "      <td>0.605488</td>\n",
       "      <td>0.142274</td>\n",
       "      <td>0.043371</td>\n",
       "      <td>...</td>\n",
       "      <td>0.345986</td>\n",
       "      <td>9.638546</td>\n",
       "      <td>1.406341</td>\n",
       "      <td>0.742304</td>\n",
       "      <td>0.456221</td>\n",
       "      <td>0.405719</td>\n",
       "      <td>1.330639</td>\n",
       "      <td>0.869228</td>\n",
       "      <td>0.365879</td>\n",
       "      <td>2.281362</td>\n",
       "    </tr>\n",
       "    <tr>\n",
       "      <th>min</th>\n",
       "      <td>0.320000</td>\n",
       "      <td>0.090000</td>\n",
       "      <td>5.480000</td>\n",
       "      <td>4.680000</td>\n",
       "      <td>0.180000</td>\n",
       "      <td>0.000000</td>\n",
       "      <td>0.000000</td>\n",
       "      <td>0.000000</td>\n",
       "      <td>0.030000</td>\n",
       "      <td>0.200000</td>\n",
       "      <td>...</td>\n",
       "      <td>0.010000</td>\n",
       "      <td>2.510000</td>\n",
       "      <td>0.380000</td>\n",
       "      <td>0.330000</td>\n",
       "      <td>0.020000</td>\n",
       "      <td>0.020000</td>\n",
       "      <td>0.000000</td>\n",
       "      <td>0.000000</td>\n",
       "      <td>0.860000</td>\n",
       "      <td>0.530000</td>\n",
       "    </tr>\n",
       "    <tr>\n",
       "      <th>25%</th>\n",
       "      <td>0.400000</td>\n",
       "      <td>0.220000</td>\n",
       "      <td>6.800000</td>\n",
       "      <td>6.640000</td>\n",
       "      <td>0.320000</td>\n",
       "      <td>0.000000</td>\n",
       "      <td>0.290000</td>\n",
       "      <td>0.030000</td>\n",
       "      <td>0.285000</td>\n",
       "      <td>0.260000</td>\n",
       "      <td>...</td>\n",
       "      <td>0.330000</td>\n",
       "      <td>6.215000</td>\n",
       "      <td>1.000000</td>\n",
       "      <td>1.350000</td>\n",
       "      <td>0.070000</td>\n",
       "      <td>0.180000</td>\n",
       "      <td>0.000000</td>\n",
       "      <td>0.020000</td>\n",
       "      <td>1.390000</td>\n",
       "      <td>1.140000</td>\n",
       "    </tr>\n",
       "    <tr>\n",
       "      <th>50%</th>\n",
       "      <td>0.480000</td>\n",
       "      <td>0.320000</td>\n",
       "      <td>7.940000</td>\n",
       "      <td>7.200000</td>\n",
       "      <td>0.360000</td>\n",
       "      <td>0.090000</td>\n",
       "      <td>0.700000</td>\n",
       "      <td>0.090000</td>\n",
       "      <td>0.380000</td>\n",
       "      <td>0.290000</td>\n",
       "      <td>...</td>\n",
       "      <td>0.740000</td>\n",
       "      <td>9.860000</td>\n",
       "      <td>2.120000</td>\n",
       "      <td>2.290000</td>\n",
       "      <td>0.160000</td>\n",
       "      <td>0.560000</td>\n",
       "      <td>0.000000</td>\n",
       "      <td>0.110000</td>\n",
       "      <td>1.550000</td>\n",
       "      <td>3.020000</td>\n",
       "    </tr>\n",
       "    <tr>\n",
       "      <th>75%</th>\n",
       "      <td>0.560000</td>\n",
       "      <td>0.390000</td>\n",
       "      <td>8.675000</td>\n",
       "      <td>8.440000</td>\n",
       "      <td>0.405000</td>\n",
       "      <td>0.180000</td>\n",
       "      <td>1.625000</td>\n",
       "      <td>0.885000</td>\n",
       "      <td>0.440000</td>\n",
       "      <td>0.330000</td>\n",
       "      <td>...</td>\n",
       "      <td>0.910000</td>\n",
       "      <td>23.325000</td>\n",
       "      <td>3.795000</td>\n",
       "      <td>2.620000</td>\n",
       "      <td>0.405000</td>\n",
       "      <td>0.965000</td>\n",
       "      <td>2.380000</td>\n",
       "      <td>1.480000</td>\n",
       "      <td>1.730000</td>\n",
       "      <td>5.325000</td>\n",
       "    </tr>\n",
       "    <tr>\n",
       "      <th>max</th>\n",
       "      <td>0.760000</td>\n",
       "      <td>1.020000</td>\n",
       "      <td>12.890000</td>\n",
       "      <td>9.940000</td>\n",
       "      <td>0.560000</td>\n",
       "      <td>0.880000</td>\n",
       "      <td>2.800000</td>\n",
       "      <td>2.130000</td>\n",
       "      <td>0.570000</td>\n",
       "      <td>0.390000</td>\n",
       "      <td>...</td>\n",
       "      <td>1.260000</td>\n",
       "      <td>31.410000</td>\n",
       "      <td>4.600000</td>\n",
       "      <td>2.940000</td>\n",
       "      <td>2.110000</td>\n",
       "      <td>1.350000</td>\n",
       "      <td>3.530000</td>\n",
       "      <td>2.880000</td>\n",
       "      <td>2.620000</td>\n",
       "      <td>8.510000</td>\n",
       "    </tr>\n",
       "  </tbody>\n",
       "</table>\n",
       "<p>8 rows × 29 columns</p>\n",
       "</div>"
      ],
      "text/plain": [
       "             Abap         Ada       C/C++          C#       Cobol        Dart  \\\n",
       "count  227.000000  227.000000  227.000000  227.000000  227.000000  227.000000   \n",
       "mean     0.489692    0.361542    8.113348    7.496784    0.368194    0.176608   \n",
       "std      0.107508    0.198476    1.774062    1.232928    0.072104    0.239022   \n",
       "min      0.320000    0.090000    5.480000    4.680000    0.180000    0.000000   \n",
       "25%      0.400000    0.220000    6.800000    6.640000    0.320000    0.000000   \n",
       "50%      0.480000    0.320000    7.940000    7.200000    0.360000    0.090000   \n",
       "75%      0.560000    0.390000    8.675000    8.440000    0.405000    0.180000   \n",
       "max      0.760000    1.020000   12.890000    9.940000    0.560000    0.880000   \n",
       "\n",
       "       Delphi/Pascal          Go      Groovy     Haskell  ...  Powershell  \\\n",
       "count     227.000000  227.000000  227.000000  227.000000  ...  227.000000   \n",
       "mean        0.960661    0.476344    0.343128    0.292952  ...    0.650088   \n",
       "std         0.770689    0.605488    0.142274    0.043371  ...    0.345986   \n",
       "min         0.000000    0.000000    0.030000    0.200000  ...    0.010000   \n",
       "25%         0.290000    0.030000    0.285000    0.260000  ...    0.330000   \n",
       "50%         0.700000    0.090000    0.380000    0.290000  ...    0.740000   \n",
       "75%         1.625000    0.885000    0.440000    0.330000  ...    0.910000   \n",
       "max         2.800000    2.130000    0.570000    0.390000  ...    1.260000   \n",
       "\n",
       "           Python           R        Ruby        Rust       Scala       Swift  \\\n",
       "count  227.000000  227.000000  227.000000  227.000000  227.000000  227.000000   \n",
       "mean    13.558106    2.310396    1.986872    0.362599    0.582687    1.192203   \n",
       "std      9.638546    1.406341    0.742304    0.456221    0.405719    1.330639   \n",
       "min      2.510000    0.380000    0.330000    0.020000    0.020000    0.000000   \n",
       "25%      6.215000    1.000000    1.350000    0.070000    0.180000    0.000000   \n",
       "50%      9.860000    2.120000    2.290000    0.160000    0.560000    0.000000   \n",
       "75%     23.325000    3.795000    2.620000    0.405000    0.965000    2.380000   \n",
       "max     31.410000    4.600000    2.940000    2.110000    1.350000    3.530000   \n",
       "\n",
       "       TypeScript         VBA  Visual Basic  \n",
       "count  227.000000  227.000000    227.000000  \n",
       "mean     0.679868    1.606256      3.378414  \n",
       "std      0.869228    0.365879      2.281362  \n",
       "min      0.000000    0.860000      0.530000  \n",
       "25%      0.020000    1.390000      1.140000  \n",
       "50%      0.110000    1.550000      3.020000  \n",
       "75%      1.480000    1.730000      5.325000  \n",
       "max      2.880000    2.620000      8.510000  \n",
       "\n",
       "[8 rows x 29 columns]"
      ]
     },
     "execution_count": 93,
     "metadata": {},
     "output_type": "execute_result"
    }
   ],
   "source": [
    "df.describe()"
   ]
  },
  {
   "cell_type": "code",
   "execution_count": null,
   "id": "a0a440b7-9402-4590-9cf1-593bb8aff7fe",
   "metadata": {},
   "outputs": [],
   "source": []
  },
  {
   "cell_type": "code",
   "execution_count": null,
   "id": "0b18023e-06c6-4221-9e8c-f553fec96fd8",
   "metadata": {},
   "outputs": [],
   "source": []
  },
  {
   "cell_type": "code",
   "execution_count": null,
   "id": "8f83e831-d150-4a93-a5fa-b7fee7d9f78c",
   "metadata": {},
   "outputs": [],
   "source": []
  },
  {
   "cell_type": "code",
   "execution_count": 10,
   "id": "32754f45-d0c9-4b6e-9f61-f14ee42d9ee7",
   "metadata": {},
   "outputs": [
    {
     "name": "stdout",
     "output_type": "stream",
     "text": [
      "<class 'pandas.core.frame.DataFrame'>\n",
      "RangeIndex: 227 entries, 0 to 226\n",
      "Data columns (total 30 columns):\n",
      " #   Column         Non-Null Count  Dtype  \n",
      "---  ------         --------------  -----  \n",
      " 0   Date           227 non-null    object \n",
      " 1   Abap           227 non-null    float64\n",
      " 2   Ada            227 non-null    float64\n",
      " 3   C/C++          227 non-null    float64\n",
      " 4   C#             227 non-null    float64\n",
      " 5   Cobol          227 non-null    float64\n",
      " 6   Dart           227 non-null    float64\n",
      " 7   Delphi/Pascal  227 non-null    float64\n",
      " 8   Go             227 non-null    float64\n",
      " 9   Groovy         227 non-null    float64\n",
      " 10  Haskell        227 non-null    float64\n",
      " 11  Java           227 non-null    float64\n",
      " 12  JavaScript     227 non-null    float64\n",
      " 13  Julia          227 non-null    float64\n",
      " 14  Kotlin         227 non-null    float64\n",
      " 15  Lua            227 non-null    float64\n",
      " 16  Matlab         227 non-null    float64\n",
      " 17  Objective-C    227 non-null    float64\n",
      " 18  Perl           227 non-null    float64\n",
      " 19  PHP            227 non-null    float64\n",
      " 20  Powershell     227 non-null    float64\n",
      " 21  Python         227 non-null    float64\n",
      " 22  R              227 non-null    float64\n",
      " 23  Ruby           227 non-null    float64\n",
      " 24  Rust           227 non-null    float64\n",
      " 25  Scala          227 non-null    float64\n",
      " 26  Swift          227 non-null    float64\n",
      " 27  TypeScript     227 non-null    float64\n",
      " 28  VBA            227 non-null    float64\n",
      " 29  Visual Basic   227 non-null    float64\n",
      "dtypes: float64(29), object(1)\n",
      "memory usage: 53.3+ KB\n"
     ]
    }
   ],
   "source": [
    "df.info()"
   ]
  },
  {
   "cell_type": "code",
   "execution_count": null,
   "id": "39356c2c-b331-47fc-9d1f-1173b813b038",
   "metadata": {},
   "outputs": [],
   "source": []
  },
  {
   "cell_type": "code",
   "execution_count": null,
   "id": "2fb5c7a8-65da-4e72-9029-936671088496",
   "metadata": {},
   "outputs": [],
   "source": []
  },
  {
   "cell_type": "code",
   "execution_count": 11,
   "id": "e9763ebf-5209-4328-af5c-e9d6b230e22d",
   "metadata": {},
   "outputs": [
    {
     "data": {
      "text/plain": [
       "Date             227\n",
       "Abap              45\n",
       "Ada               64\n",
       "C/C++            182\n",
       "C#               169\n",
       "Cobol             36\n",
       "Dart              51\n",
       "Delphi/Pascal    130\n",
       "Go                90\n",
       "Groovy            45\n",
       "Haskell           20\n",
       "Java             200\n",
       "JavaScript       141\n",
       "Julia             43\n",
       "Kotlin            64\n",
       "Lua               54\n",
       "Matlab           131\n",
       "Objective-C      159\n",
       "Perl             168\n",
       "PHP              198\n",
       "Powershell        93\n",
       "Python           208\n",
       "R                161\n",
       "Ruby             132\n",
       "Rust              81\n",
       "Scala             98\n",
       "Swift             83\n",
       "TypeScript        95\n",
       "VBA              104\n",
       "Visual Basic     170\n",
       "dtype: int64"
      ]
     },
     "execution_count": 11,
     "metadata": {},
     "output_type": "execute_result"
    }
   ],
   "source": [
    "df.nunique()\n"
   ]
  },
  {
   "cell_type": "code",
   "execution_count": null,
   "id": "5e518b3d-2055-4458-8ff1-b0ebcc332889",
   "metadata": {},
   "outputs": [],
   "source": []
  },
  {
   "cell_type": "code",
   "execution_count": null,
   "id": "7a9ba134-ff67-4358-9949-0666db63c37f",
   "metadata": {},
   "outputs": [],
   "source": []
  },
  {
   "cell_type": "code",
   "execution_count": 12,
   "id": "7e2372ff-21f1-4340-bcac-6473d4fc2744",
   "metadata": {},
   "outputs": [
    {
     "data": {
      "text/html": [
       "<div>\n",
       "<style scoped>\n",
       "    .dataframe tbody tr th:only-of-type {\n",
       "        vertical-align: middle;\n",
       "    }\n",
       "\n",
       "    .dataframe tbody tr th {\n",
       "        vertical-align: top;\n",
       "    }\n",
       "\n",
       "    .dataframe thead th {\n",
       "        text-align: right;\n",
       "    }\n",
       "</style>\n",
       "<table border=\"1\" class=\"dataframe\">\n",
       "  <thead>\n",
       "    <tr style=\"text-align: right;\">\n",
       "      <th></th>\n",
       "      <th>Date</th>\n",
       "      <th>Abap</th>\n",
       "      <th>Ada</th>\n",
       "      <th>C/C++</th>\n",
       "      <th>C#</th>\n",
       "      <th>Cobol</th>\n",
       "      <th>Dart</th>\n",
       "      <th>Delphi/Pascal</th>\n",
       "      <th>Go</th>\n",
       "      <th>Groovy</th>\n",
       "      <th>...</th>\n",
       "      <th>Powershell</th>\n",
       "      <th>Python</th>\n",
       "      <th>R</th>\n",
       "      <th>Ruby</th>\n",
       "      <th>Rust</th>\n",
       "      <th>Scala</th>\n",
       "      <th>Swift</th>\n",
       "      <th>TypeScript</th>\n",
       "      <th>VBA</th>\n",
       "      <th>Visual Basic</th>\n",
       "    </tr>\n",
       "  </thead>\n",
       "  <tbody>\n",
       "    <tr>\n",
       "      <th>0</th>\n",
       "      <td>July 2004</td>\n",
       "      <td>0.34</td>\n",
       "      <td>0.36</td>\n",
       "      <td>10.01</td>\n",
       "      <td>4.68</td>\n",
       "      <td>0.42</td>\n",
       "      <td>0.00</td>\n",
       "      <td>2.80</td>\n",
       "      <td>0.00</td>\n",
       "      <td>0.03</td>\n",
       "      <td>...</td>\n",
       "      <td>0.16</td>\n",
       "      <td>2.51</td>\n",
       "      <td>0.39</td>\n",
       "      <td>0.33</td>\n",
       "      <td>0.24</td>\n",
       "      <td>0.17</td>\n",
       "      <td>0.00</td>\n",
       "      <td>0.00</td>\n",
       "      <td>1.43</td>\n",
       "      <td>8.50</td>\n",
       "    </tr>\n",
       "    <tr>\n",
       "      <th>1</th>\n",
       "      <td>August 2004</td>\n",
       "      <td>0.35</td>\n",
       "      <td>0.36</td>\n",
       "      <td>9.74</td>\n",
       "      <td>4.96</td>\n",
       "      <td>0.46</td>\n",
       "      <td>0.00</td>\n",
       "      <td>2.65</td>\n",
       "      <td>0.00</td>\n",
       "      <td>0.07</td>\n",
       "      <td>...</td>\n",
       "      <td>0.15</td>\n",
       "      <td>2.62</td>\n",
       "      <td>0.40</td>\n",
       "      <td>0.40</td>\n",
       "      <td>0.19</td>\n",
       "      <td>0.17</td>\n",
       "      <td>0.00</td>\n",
       "      <td>0.00</td>\n",
       "      <td>1.45</td>\n",
       "      <td>8.51</td>\n",
       "    </tr>\n",
       "    <tr>\n",
       "      <th>2</th>\n",
       "      <td>September 2004</td>\n",
       "      <td>0.41</td>\n",
       "      <td>0.41</td>\n",
       "      <td>9.59</td>\n",
       "      <td>5.04</td>\n",
       "      <td>0.51</td>\n",
       "      <td>0.00</td>\n",
       "      <td>2.64</td>\n",
       "      <td>0.00</td>\n",
       "      <td>0.08</td>\n",
       "      <td>...</td>\n",
       "      <td>0.08</td>\n",
       "      <td>2.71</td>\n",
       "      <td>0.40</td>\n",
       "      <td>0.41</td>\n",
       "      <td>0.17</td>\n",
       "      <td>0.13</td>\n",
       "      <td>0.00</td>\n",
       "      <td>0.00</td>\n",
       "      <td>1.54</td>\n",
       "      <td>8.38</td>\n",
       "    </tr>\n",
       "    <tr>\n",
       "      <th>3</th>\n",
       "      <td>October 2004</td>\n",
       "      <td>0.40</td>\n",
       "      <td>0.38</td>\n",
       "      <td>9.47</td>\n",
       "      <td>5.29</td>\n",
       "      <td>0.53</td>\n",
       "      <td>0.00</td>\n",
       "      <td>2.76</td>\n",
       "      <td>0.00</td>\n",
       "      <td>0.09</td>\n",
       "      <td>...</td>\n",
       "      <td>0.12</td>\n",
       "      <td>2.91</td>\n",
       "      <td>0.42</td>\n",
       "      <td>0.46</td>\n",
       "      <td>0.12</td>\n",
       "      <td>0.14</td>\n",
       "      <td>0.00</td>\n",
       "      <td>0.00</td>\n",
       "      <td>1.61</td>\n",
       "      <td>8.46</td>\n",
       "    </tr>\n",
       "    <tr>\n",
       "      <th>4</th>\n",
       "      <td>November 2004</td>\n",
       "      <td>0.38</td>\n",
       "      <td>0.38</td>\n",
       "      <td>9.48</td>\n",
       "      <td>5.22</td>\n",
       "      <td>0.55</td>\n",
       "      <td>0.00</td>\n",
       "      <td>2.75</td>\n",
       "      <td>0.00</td>\n",
       "      <td>0.07</td>\n",
       "      <td>...</td>\n",
       "      <td>0.12</td>\n",
       "      <td>2.83</td>\n",
       "      <td>0.41</td>\n",
       "      <td>0.44</td>\n",
       "      <td>0.17</td>\n",
       "      <td>0.15</td>\n",
       "      <td>0.00</td>\n",
       "      <td>0.00</td>\n",
       "      <td>1.50</td>\n",
       "      <td>8.21</td>\n",
       "    </tr>\n",
       "    <tr>\n",
       "      <th>...</th>\n",
       "      <td>...</td>\n",
       "      <td>...</td>\n",
       "      <td>...</td>\n",
       "      <td>...</td>\n",
       "      <td>...</td>\n",
       "      <td>...</td>\n",
       "      <td>...</td>\n",
       "      <td>...</td>\n",
       "      <td>...</td>\n",
       "      <td>...</td>\n",
       "      <td>...</td>\n",
       "      <td>...</td>\n",
       "      <td>...</td>\n",
       "      <td>...</td>\n",
       "      <td>...</td>\n",
       "      <td>...</td>\n",
       "      <td>...</td>\n",
       "      <td>...</td>\n",
       "      <td>...</td>\n",
       "      <td>...</td>\n",
       "      <td>...</td>\n",
       "    </tr>\n",
       "    <tr>\n",
       "      <th>222</th>\n",
       "      <td>January 2023</td>\n",
       "      <td>0.46</td>\n",
       "      <td>0.85</td>\n",
       "      <td>6.84</td>\n",
       "      <td>6.93</td>\n",
       "      <td>0.39</td>\n",
       "      <td>0.82</td>\n",
       "      <td>0.00</td>\n",
       "      <td>1.92</td>\n",
       "      <td>0.39</td>\n",
       "      <td>...</td>\n",
       "      <td>0.89</td>\n",
       "      <td>27.69</td>\n",
       "      <td>3.99</td>\n",
       "      <td>1.02</td>\n",
       "      <td>1.89</td>\n",
       "      <td>0.63</td>\n",
       "      <td>2.21</td>\n",
       "      <td>2.77</td>\n",
       "      <td>1.02</td>\n",
       "      <td>0.59</td>\n",
       "    </tr>\n",
       "    <tr>\n",
       "      <th>223</th>\n",
       "      <td>February 2023</td>\n",
       "      <td>0.46</td>\n",
       "      <td>0.89</td>\n",
       "      <td>6.84</td>\n",
       "      <td>6.92</td>\n",
       "      <td>0.37</td>\n",
       "      <td>0.82</td>\n",
       "      <td>0.02</td>\n",
       "      <td>1.93</td>\n",
       "      <td>0.36</td>\n",
       "      <td>...</td>\n",
       "      <td>0.87</td>\n",
       "      <td>27.42</td>\n",
       "      <td>4.09</td>\n",
       "      <td>1.03</td>\n",
       "      <td>1.95</td>\n",
       "      <td>0.62</td>\n",
       "      <td>2.27</td>\n",
       "      <td>2.80</td>\n",
       "      <td>1.01</td>\n",
       "      <td>0.58</td>\n",
       "    </tr>\n",
       "    <tr>\n",
       "      <th>224</th>\n",
       "      <td>March 2023</td>\n",
       "      <td>0.46</td>\n",
       "      <td>0.93</td>\n",
       "      <td>6.86</td>\n",
       "      <td>6.81</td>\n",
       "      <td>0.37</td>\n",
       "      <td>0.80</td>\n",
       "      <td>0.09</td>\n",
       "      <td>1.90</td>\n",
       "      <td>0.37</td>\n",
       "      <td>...</td>\n",
       "      <td>0.89</td>\n",
       "      <td>27.39</td>\n",
       "      <td>4.20</td>\n",
       "      <td>1.03</td>\n",
       "      <td>2.06</td>\n",
       "      <td>0.65</td>\n",
       "      <td>2.25</td>\n",
       "      <td>2.84</td>\n",
       "      <td>0.98</td>\n",
       "      <td>0.56</td>\n",
       "    </tr>\n",
       "    <tr>\n",
       "      <th>225</th>\n",
       "      <td>April 2023</td>\n",
       "      <td>0.46</td>\n",
       "      <td>0.95</td>\n",
       "      <td>6.73</td>\n",
       "      <td>6.82</td>\n",
       "      <td>0.39</td>\n",
       "      <td>0.81</td>\n",
       "      <td>0.13</td>\n",
       "      <td>1.96</td>\n",
       "      <td>0.33</td>\n",
       "      <td>...</td>\n",
       "      <td>0.95</td>\n",
       "      <td>27.29</td>\n",
       "      <td>4.23</td>\n",
       "      <td>1.03</td>\n",
       "      <td>2.11</td>\n",
       "      <td>0.68</td>\n",
       "      <td>2.30</td>\n",
       "      <td>2.88</td>\n",
       "      <td>0.96</td>\n",
       "      <td>0.60</td>\n",
       "    </tr>\n",
       "    <tr>\n",
       "      <th>226</th>\n",
       "      <td>May 2023</td>\n",
       "      <td>0.48</td>\n",
       "      <td>1.02</td>\n",
       "      <td>6.55</td>\n",
       "      <td>6.92</td>\n",
       "      <td>0.40</td>\n",
       "      <td>0.78</td>\n",
       "      <td>0.16</td>\n",
       "      <td>1.95</td>\n",
       "      <td>0.37</td>\n",
       "      <td>...</td>\n",
       "      <td>0.95</td>\n",
       "      <td>27.27</td>\n",
       "      <td>4.34</td>\n",
       "      <td>1.04</td>\n",
       "      <td>2.08</td>\n",
       "      <td>0.78</td>\n",
       "      <td>2.30</td>\n",
       "      <td>2.88</td>\n",
       "      <td>0.95</td>\n",
       "      <td>0.61</td>\n",
       "    </tr>\n",
       "  </tbody>\n",
       "</table>\n",
       "<p>227 rows × 30 columns</p>\n",
       "</div>"
      ],
      "text/plain": [
       "               Date  Abap   Ada  C/C++    C#  Cobol  Dart  Delphi/Pascal  \\\n",
       "0         July 2004  0.34  0.36  10.01  4.68   0.42  0.00           2.80   \n",
       "1       August 2004  0.35  0.36   9.74  4.96   0.46  0.00           2.65   \n",
       "2    September 2004  0.41  0.41   9.59  5.04   0.51  0.00           2.64   \n",
       "3      October 2004  0.40  0.38   9.47  5.29   0.53  0.00           2.76   \n",
       "4     November 2004  0.38  0.38   9.48  5.22   0.55  0.00           2.75   \n",
       "..              ...   ...   ...    ...   ...    ...   ...            ...   \n",
       "222    January 2023  0.46  0.85   6.84  6.93   0.39  0.82           0.00   \n",
       "223   February 2023  0.46  0.89   6.84  6.92   0.37  0.82           0.02   \n",
       "224      March 2023  0.46  0.93   6.86  6.81   0.37  0.80           0.09   \n",
       "225      April 2023  0.46  0.95   6.73  6.82   0.39  0.81           0.13   \n",
       "226        May 2023  0.48  1.02   6.55  6.92   0.40  0.78           0.16   \n",
       "\n",
       "       Go  Groovy  ...  Powershell  Python     R  Ruby  Rust  Scala  Swift  \\\n",
       "0    0.00    0.03  ...        0.16    2.51  0.39  0.33  0.24   0.17   0.00   \n",
       "1    0.00    0.07  ...        0.15    2.62  0.40  0.40  0.19   0.17   0.00   \n",
       "2    0.00    0.08  ...        0.08    2.71  0.40  0.41  0.17   0.13   0.00   \n",
       "3    0.00    0.09  ...        0.12    2.91  0.42  0.46  0.12   0.14   0.00   \n",
       "4    0.00    0.07  ...        0.12    2.83  0.41  0.44  0.17   0.15   0.00   \n",
       "..    ...     ...  ...         ...     ...   ...   ...   ...    ...    ...   \n",
       "222  1.92    0.39  ...        0.89   27.69  3.99  1.02  1.89   0.63   2.21   \n",
       "223  1.93    0.36  ...        0.87   27.42  4.09  1.03  1.95   0.62   2.27   \n",
       "224  1.90    0.37  ...        0.89   27.39  4.20  1.03  2.06   0.65   2.25   \n",
       "225  1.96    0.33  ...        0.95   27.29  4.23  1.03  2.11   0.68   2.30   \n",
       "226  1.95    0.37  ...        0.95   27.27  4.34  1.04  2.08   0.78   2.30   \n",
       "\n",
       "     TypeScript   VBA  Visual Basic  \n",
       "0          0.00  1.43          8.50  \n",
       "1          0.00  1.45          8.51  \n",
       "2          0.00  1.54          8.38  \n",
       "3          0.00  1.61          8.46  \n",
       "4          0.00  1.50          8.21  \n",
       "..          ...   ...           ...  \n",
       "222        2.77  1.02          0.59  \n",
       "223        2.80  1.01          0.58  \n",
       "224        2.84  0.98          0.56  \n",
       "225        2.88  0.96          0.60  \n",
       "226        2.88  0.95          0.61  \n",
       "\n",
       "[227 rows x 30 columns]"
      ]
     },
     "execution_count": 12,
     "metadata": {},
     "output_type": "execute_result"
    }
   ],
   "source": [
    "df=pd.read_csv('PopularityofProgrammingLanguagesfrom2004to2023.csv',na_values=[\"NaN\",-1,\"not available\"])\n",
    "df"
   ]
  },
  {
   "cell_type": "code",
   "execution_count": null,
   "id": "1793e8a7-a5c7-4bee-869d-7aeb17a725d3",
   "metadata": {},
   "outputs": [],
   "source": []
  },
  {
   "cell_type": "code",
   "execution_count": 13,
   "id": "688104b6-2706-4f90-8e84-f6b1bfb358bd",
   "metadata": {},
   "outputs": [
    {
     "data": {
      "text/plain": [
       "Date             0\n",
       "Abap             0\n",
       "Ada              0\n",
       "C/C++            0\n",
       "C#               0\n",
       "Cobol            0\n",
       "Dart             0\n",
       "Delphi/Pascal    0\n",
       "Go               0\n",
       "Groovy           0\n",
       "Haskell          0\n",
       "Java             0\n",
       "JavaScript       0\n",
       "Julia            0\n",
       "Kotlin           0\n",
       "Lua              0\n",
       "Matlab           0\n",
       "Objective-C      0\n",
       "Perl             0\n",
       "PHP              0\n",
       "Powershell       0\n",
       "Python           0\n",
       "R                0\n",
       "Ruby             0\n",
       "Rust             0\n",
       "Scala            0\n",
       "Swift            0\n",
       "TypeScript       0\n",
       "VBA              0\n",
       "Visual Basic     0\n",
       "dtype: int64"
      ]
     },
     "execution_count": 13,
     "metadata": {},
     "output_type": "execute_result"
    }
   ],
   "source": [
    "df.isnull().sum()"
   ]
  },
  {
   "cell_type": "code",
   "execution_count": null,
   "id": "c6024d38-faa2-4b0d-a821-3eb43acfb6f1",
   "metadata": {},
   "outputs": [],
   "source": []
  },
  {
   "cell_type": "code",
   "execution_count": 14,
   "id": "e39c70fb-49cb-4a3c-8c29-a0b936c2d954",
   "metadata": {},
   "outputs": [
    {
     "data": {
      "text/plain": [
       "0"
      ]
     },
     "execution_count": 14,
     "metadata": {},
     "output_type": "execute_result"
    }
   ],
   "source": [
    "df.duplicated().sum()"
   ]
  },
  {
   "cell_type": "code",
   "execution_count": null,
   "id": "eb61eda7-f71b-4dd8-a7f2-05fb0b7c96cf",
   "metadata": {},
   "outputs": [],
   "source": []
  },
  {
   "cell_type": "code",
   "execution_count": null,
   "id": "59e2b0b5-a344-43fb-8315-00bcd1ae737b",
   "metadata": {},
   "outputs": [],
   "source": []
  },
  {
   "cell_type": "code",
   "execution_count": null,
   "id": "a440bd26-7419-4e76-b22b-5c28ff01e6ea",
   "metadata": {},
   "outputs": [],
   "source": []
  },
  {
   "cell_type": "code",
   "execution_count": 15,
   "id": "0ad4cf9e-138a-4331-8567-c33ca592cbf8",
   "metadata": {},
   "outputs": [
    {
     "data": {
      "text/html": [
       "<div>\n",
       "<style scoped>\n",
       "    .dataframe tbody tr th:only-of-type {\n",
       "        vertical-align: middle;\n",
       "    }\n",
       "\n",
       "    .dataframe tbody tr th {\n",
       "        vertical-align: top;\n",
       "    }\n",
       "\n",
       "    .dataframe thead th {\n",
       "        text-align: right;\n",
       "    }\n",
       "</style>\n",
       "<table border=\"1\" class=\"dataframe\">\n",
       "  <thead>\n",
       "    <tr style=\"text-align: right;\">\n",
       "      <th></th>\n",
       "      <th>Date</th>\n",
       "      <th>Abap</th>\n",
       "      <th>Ada</th>\n",
       "      <th>C/C++</th>\n",
       "      <th>C#</th>\n",
       "      <th>Cobol</th>\n",
       "      <th>Dart</th>\n",
       "      <th>Delphi/Pascal</th>\n",
       "      <th>Go</th>\n",
       "      <th>Groovy</th>\n",
       "      <th>...</th>\n",
       "      <th>Powershell</th>\n",
       "      <th>Python</th>\n",
       "      <th>R</th>\n",
       "      <th>Ruby</th>\n",
       "      <th>Rust</th>\n",
       "      <th>Scala</th>\n",
       "      <th>Swift</th>\n",
       "      <th>TypeScript</th>\n",
       "      <th>VBA</th>\n",
       "      <th>Visual Basic</th>\n",
       "    </tr>\n",
       "  </thead>\n",
       "  <tbody>\n",
       "    <tr>\n",
       "      <th>0</th>\n",
       "      <td>July 2004</td>\n",
       "      <td>0.34</td>\n",
       "      <td>0.36</td>\n",
       "      <td>10.01</td>\n",
       "      <td>4.68</td>\n",
       "      <td>0.42</td>\n",
       "      <td>0.0</td>\n",
       "      <td>2.80</td>\n",
       "      <td>0.0</td>\n",
       "      <td>0.03</td>\n",
       "      <td>...</td>\n",
       "      <td>0.16</td>\n",
       "      <td>2.51</td>\n",
       "      <td>0.39</td>\n",
       "      <td>0.33</td>\n",
       "      <td>0.24</td>\n",
       "      <td>0.17</td>\n",
       "      <td>0.0</td>\n",
       "      <td>0.0</td>\n",
       "      <td>1.43</td>\n",
       "      <td>8.50</td>\n",
       "    </tr>\n",
       "    <tr>\n",
       "      <th>1</th>\n",
       "      <td>August 2004</td>\n",
       "      <td>0.35</td>\n",
       "      <td>0.36</td>\n",
       "      <td>9.74</td>\n",
       "      <td>4.96</td>\n",
       "      <td>0.46</td>\n",
       "      <td>0.0</td>\n",
       "      <td>2.65</td>\n",
       "      <td>0.0</td>\n",
       "      <td>0.07</td>\n",
       "      <td>...</td>\n",
       "      <td>0.15</td>\n",
       "      <td>2.62</td>\n",
       "      <td>0.40</td>\n",
       "      <td>0.40</td>\n",
       "      <td>0.19</td>\n",
       "      <td>0.17</td>\n",
       "      <td>0.0</td>\n",
       "      <td>0.0</td>\n",
       "      <td>1.45</td>\n",
       "      <td>8.51</td>\n",
       "    </tr>\n",
       "    <tr>\n",
       "      <th>2</th>\n",
       "      <td>September 2004</td>\n",
       "      <td>0.41</td>\n",
       "      <td>0.41</td>\n",
       "      <td>9.59</td>\n",
       "      <td>5.04</td>\n",
       "      <td>0.51</td>\n",
       "      <td>0.0</td>\n",
       "      <td>2.64</td>\n",
       "      <td>0.0</td>\n",
       "      <td>0.08</td>\n",
       "      <td>...</td>\n",
       "      <td>0.08</td>\n",
       "      <td>2.71</td>\n",
       "      <td>0.40</td>\n",
       "      <td>0.41</td>\n",
       "      <td>0.17</td>\n",
       "      <td>0.13</td>\n",
       "      <td>0.0</td>\n",
       "      <td>0.0</td>\n",
       "      <td>1.54</td>\n",
       "      <td>8.38</td>\n",
       "    </tr>\n",
       "    <tr>\n",
       "      <th>3</th>\n",
       "      <td>October 2004</td>\n",
       "      <td>0.40</td>\n",
       "      <td>0.38</td>\n",
       "      <td>9.47</td>\n",
       "      <td>5.29</td>\n",
       "      <td>0.53</td>\n",
       "      <td>0.0</td>\n",
       "      <td>2.76</td>\n",
       "      <td>0.0</td>\n",
       "      <td>0.09</td>\n",
       "      <td>...</td>\n",
       "      <td>0.12</td>\n",
       "      <td>2.91</td>\n",
       "      <td>0.42</td>\n",
       "      <td>0.46</td>\n",
       "      <td>0.12</td>\n",
       "      <td>0.14</td>\n",
       "      <td>0.0</td>\n",
       "      <td>0.0</td>\n",
       "      <td>1.61</td>\n",
       "      <td>8.46</td>\n",
       "    </tr>\n",
       "    <tr>\n",
       "      <th>4</th>\n",
       "      <td>November 2004</td>\n",
       "      <td>0.38</td>\n",
       "      <td>0.38</td>\n",
       "      <td>9.48</td>\n",
       "      <td>5.22</td>\n",
       "      <td>0.55</td>\n",
       "      <td>0.0</td>\n",
       "      <td>2.75</td>\n",
       "      <td>0.0</td>\n",
       "      <td>0.07</td>\n",
       "      <td>...</td>\n",
       "      <td>0.12</td>\n",
       "      <td>2.83</td>\n",
       "      <td>0.41</td>\n",
       "      <td>0.44</td>\n",
       "      <td>0.17</td>\n",
       "      <td>0.15</td>\n",
       "      <td>0.0</td>\n",
       "      <td>0.0</td>\n",
       "      <td>1.50</td>\n",
       "      <td>8.21</td>\n",
       "    </tr>\n",
       "  </tbody>\n",
       "</table>\n",
       "<p>5 rows × 30 columns</p>\n",
       "</div>"
      ],
      "text/plain": [
       "             Date  Abap   Ada  C/C++    C#  Cobol  Dart  Delphi/Pascal   Go  \\\n",
       "0       July 2004  0.34  0.36  10.01  4.68   0.42   0.0           2.80  0.0   \n",
       "1     August 2004  0.35  0.36   9.74  4.96   0.46   0.0           2.65  0.0   \n",
       "2  September 2004  0.41  0.41   9.59  5.04   0.51   0.0           2.64  0.0   \n",
       "3    October 2004  0.40  0.38   9.47  5.29   0.53   0.0           2.76  0.0   \n",
       "4   November 2004  0.38  0.38   9.48  5.22   0.55   0.0           2.75  0.0   \n",
       "\n",
       "   Groovy  ...  Powershell  Python     R  Ruby  Rust  Scala  Swift  \\\n",
       "0    0.03  ...        0.16    2.51  0.39  0.33  0.24   0.17    0.0   \n",
       "1    0.07  ...        0.15    2.62  0.40  0.40  0.19   0.17    0.0   \n",
       "2    0.08  ...        0.08    2.71  0.40  0.41  0.17   0.13    0.0   \n",
       "3    0.09  ...        0.12    2.91  0.42  0.46  0.12   0.14    0.0   \n",
       "4    0.07  ...        0.12    2.83  0.41  0.44  0.17   0.15    0.0   \n",
       "\n",
       "   TypeScript   VBA  Visual Basic  \n",
       "0         0.0  1.43          8.50  \n",
       "1         0.0  1.45          8.51  \n",
       "2         0.0  1.54          8.38  \n",
       "3         0.0  1.61          8.46  \n",
       "4         0.0  1.50          8.21  \n",
       "\n",
       "[5 rows x 30 columns]"
      ]
     },
     "execution_count": 15,
     "metadata": {},
     "output_type": "execute_result"
    }
   ],
   "source": [
    "df.head()"
   ]
  },
  {
   "cell_type": "code",
   "execution_count": null,
   "id": "4331df62-b405-4868-9784-4958fb80fca5",
   "metadata": {},
   "outputs": [],
   "source": []
  },
  {
   "cell_type": "code",
   "execution_count": null,
   "id": "5756c55f-2e18-4eb8-ad2f-d72b4428339b",
   "metadata": {},
   "outputs": [],
   "source": []
  },
  {
   "cell_type": "code",
   "execution_count": 21,
   "id": "59c52e9c-496a-4a85-9eae-8e761c083032",
   "metadata": {},
   "outputs": [
    {
     "data": {
      "image/png": "[encoded data removed]",
      "text/plain": [
       "<Figure size 640x480 with 1 Axes>"
      ]
     },
     "metadata": {},
     "output_type": "display_data"
    }
   ],
   "source": [
    "# Compitation between Python and java\n",
    "plt.scatter(df['Python'], df['Java'], color = 'blue')\n",
    "plt.title('python vs java')\n",
    "plt.xlabel('Python')\n",
    "plt.ylabel('Java')\n",
    "plt.box(False)\n",
    "plt.show()"
   ]
  },
  {
   "cell_type": "code",
   "execution_count": null,
   "id": "c5672fdb-999e-4cd1-9695-e545b4018cff",
   "metadata": {},
   "outputs": [],
   "source": []
  },
  {
   "cell_type": "markdown",
   "id": "35fc32ba-5184-40f2-b112-16f3a1483f12",
   "metadata": {},
   "source": [
    "#STEP -04 SPLIT DATA SET INTO INDEPENDENT/DEPENDENT VARAIBLE"
   ]
  },
  {
   "cell_type": "code",
   "execution_count": 25,
   "id": "fc917397-5423-4696-bd4f-de4e1b3dc14d",
   "metadata": {},
   "outputs": [
    {
     "data": {
      "text/plain": [
       "Text(0, 0.5, 'java')"
      ]
     },
     "execution_count": 25,
     "metadata": {},
     "output_type": "execute_result"
    },
    {
     "data": {
      "image/png": "[encoded data removed]",
      "text/plain": [
       "<Figure size 640x480 with 1 Axes>"
      ]
     },
     "metadata": {},
     "output_type": "display_data"
    }
   ],
   "source": [
    "plt.scatter(df['Python'],df['Java'])\n",
    "plt.xlabel('Python')\n",
    "plt.ylabel('java')"
   ]
  },
  {
   "cell_type": "markdown",
   "id": "0c3c2dd5-a9de-4ed9-a449-a0ebadbfe122",
   "metadata": {},
   "source": [
    "#Linear Regressio start here"
   ]
  },
  {
   "cell_type": "markdown",
   "id": "aca41471-e3f8-4b26-8580-36ddf0f8c74d",
   "metadata": {},
   "source": [
    "STEP-05 TRAIN REGRESSION MODEL"
   ]
  },
  {
   "cell_type": "markdown",
   "id": "0b1ca769-df25-4ecf-9b45-b67b21a43069",
   "metadata": {},
   "source": [
    "STEP -06 PREDICT THE RESULT"
   ]
  },
  {
   "cell_type": "markdown",
   "id": "7053a655-9228-45bc-bb98-a7ee56aca106",
   "metadata": {},
   "source": [
    "STEP-07 PLOT THE TRAINING AND TEST RESULTS"
   ]
  },
  {
   "cell_type": "code",
   "execution_count": null,
   "id": "d6573dbb-f211-4f99-8287-98cc007dd56d",
   "metadata": {},
   "outputs": [],
   "source": []
  },
  {
   "cell_type": "code",
   "execution_count": 52,
   "id": "5f234a7f-bc38-4607-a0db-0f1083d3f8f0",
   "metadata": {},
   "outputs": [],
   "source": [
    "target=df['Python']"
   ]
  },
  {
   "cell_type": "code",
   "execution_count": null,
   "id": "a2fec581-0116-41d0-bf43-0c2cf4004b21",
   "metadata": {},
   "outputs": [],
   "source": [
    "# Split the data into training and testing sets"
   ]
  },
  {
   "cell_type": "code",
   "execution_count": 55,
   "id": "7710a9b6-401e-4bf1-9bf3-adf53b478014",
   "metadata": {},
   "outputs": [],
   "source": [
    "\n",
    "X_train, X_test, y_train, y_test = train_test_split(df[['Java']], target, test_size=0.2, random_state=4)"
   ]
  },
  {
   "cell_type": "code",
   "execution_count": null,
   "id": "cf66033e-2233-404c-a71c-d07e0e3edb78",
   "metadata": {},
   "outputs": [],
   "source": []
  },
  {
   "cell_type": "code",
   "execution_count": null,
   "id": "aae172f1-e6c3-4a59-a8a5-d0a77e26e131",
   "metadata": {},
   "outputs": [],
   "source": []
  },
  {
   "cell_type": "code",
   "execution_count": 57,
   "id": "028fb3cb-4516-4350-89c9-1f5b649a9f17",
   "metadata": {},
   "outputs": [
    {
     "data": {
      "image/png": "[encoded data removed]",
      "text/plain": [
       "<Figure size 640x480 with 1 Axes>"
      ]
     },
     "metadata": {},
     "output_type": "display_data"
    }
   ],
   "source": [
    "from sklearn.linear_model import LinearRegression\n",
    "\n",
    "# Instantiate the model\n",
    "model = LinearRegression()\n",
    "\n",
    "# Fit the model on training data\n",
    "model.fit(X_train[['Java']], y_train)  \n",
    "\n",
    "# Predict on training set\n",
    "y_pred_train = model.predict(X_train[['Java']])\n",
    "\n",
    "# Predict on test set (if needed for another plot or evaluation)\n",
    "y_pred_test = model.predict(X_test[['Java']])\n",
    "\n",
    "# Now plot\n",
    "plt.scatter(X_test['Java'], y_test, color='lightcoral', label='Test Set')\n",
    "plt.plot(X_train['Java'], y_pred_train, color='firebrick', label='Model Prediction')\n",
    "plt.title('Python vs JAVA ')\n",
    "plt.xlabel('Python')\n",
    "plt.ylabel('Java')\n",
    "plt.legend(title='Legend', loc='best', facecolor='white')\n",
    "plt.box(False)\n",
    "plt.show()"
   ]
  },
  {
   "cell_type": "markdown",
   "id": "63f72d07-0f47-49a7-acc0-c4f759d32b1c",
   "metadata": {},
   "source": [
    "#Linear regression end here"
   ]
  },
  {
   "cell_type": "code",
   "execution_count": null,
   "id": "250ee6c0-e661-4a9c-a0e9-4492a5c9d366",
   "metadata": {},
   "outputs": [],
   "source": []
  }
 ],
 "metadata": {
  "kernelspec": {
   "display_name": "Python 3 (ipykernel)",
   "language": "python",
   "name": "python3"
  },
  "language_info": {
   "codemirror_mode": {
    "name": "ipython",
    "version": 3
   },
   "file_extension": ".py",
   "mimetype": "text/x-python",
   "name": "python",
   "nbconvert_exporter": "python",
   "pygments_lexer": "ipython3",
   "version": "3.11.7"
  }
 },
 "nbformat": 4,
 "nbformat_minor": 5
}
